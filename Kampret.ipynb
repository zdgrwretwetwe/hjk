{
  "nbformat": 4,
  "nbformat_minor": 0,
  "metadata": {
    "colab": {
      "name": "Kampret.ipynb",
      "provenance": [],
      "include_colab_link": true
    },
    "kernelspec": {
      "name": "python3",
      "display_name": "Python 3"
    },
    "language_info": {
      "name": "python"
    },
    "accelerator": "GPU"
  },
  "cells": [
    {
      "cell_type": "markdown",
      "metadata": {
        "id": "view-in-github",
        "colab_type": "text"
      },
      "source": [
        "<a href=\"https://colab.research.google.com/github/zdgrwretwetwe/hjk/blob/main/Kampret.ipynb\" target=\"_parent\"><img src=\"https://colab.research.google.com/assets/colab-badge.svg\" alt=\"Open In Colab\"/></a>"
      ]
    },
    {
      "cell_type": "code",
      "source": [
        "#@title NEANGAN T4 NYA\n",
        "! nvidia-smi -L"
      ],
      "metadata": {
        "cellView": "form",
        "id": "0hUDnathzyZX",
        "outputId": "3a49e6da-aa8b-4714-cae8-d0b037c09e2d",
        "colab": {
          "base_uri": "https://localhost:8080/"
        }
      },
      "execution_count": 1,
      "outputs": [
        {
          "output_type": "stream",
          "name": "stdout",
          "text": [
            "GPU 0: Tesla K80 (UUID: GPU-fd52d491-e025-fdd7-7910-ac450136eeae)\n"
          ]
        }
      ]
    },
    {
      "cell_type": "code",
      "metadata": {
        "id": "sWyvGtRi5hAI",
        "cellView": "form",
        "outputId": "b7b2c23e-6648-4fc5-828b-7d43f163b756",
        "colab": {
          "base_uri": "https://localhost:8080/"
        }
      },
      "source": [
        "#@title Jalankeun SSH Tmate\n",
        "!pkill -9 tmate\n",
        "!wget -nc https://github.com/tmate-io/tmate/releases/download/2.4.0/tmate-2.4.0-static-linux-i386.tar.xz &> /dev/null\n",
        "!tar --skip-old-files -xvf tmate-2.4.0-static-linux-i386.tar.xz &> /dev/null\n",
        "!rm -f nohup.out; bash -ic 'nohup ./tmate-2.4.0-static-linux-i386/tmate -S /tmp/tmate.sock new-session -d & disown -a' >/dev/null 2>&1\n",
        "!./tmate-2.4.0-static-linux-i386/tmate -S /tmp/tmate.sock wait tmate-ready\n",
        "!./tmate-2.4.0-static-linux-i386/tmate -S /tmp/tmate.sock display -p \"Connect with SSH address: #{tmate_ssh}\"\n",
        "!./tmate-2.4.0-static-linux-i386/tmate -S /tmp/tmate.sock display -p \"Connect with web: #{tmate_web}\"\n",
        "#!ps auxef | cat\n",
        "#!cat nohup.out"
      ],
      "execution_count": 2,
      "outputs": [
        {
          "output_type": "stream",
          "name": "stdout",
          "text": [
            "Connect with SSH address: ssh SakHKdB7v6mfeYG7dmLDCGEwB@sgp1.tmate.io\n",
            "Connect with web: https://tmate.io/t/SakHKdB7v6mfeYG7dmLDCGEwB\n"
          ]
        }
      ]
    },
    {
      "cell_type": "code",
      "source": [
        "#@title MOLOR SIAH\n",
        "!sleep 9999999999"
      ],
      "metadata": {
        "cellView": "form",
        "id": "-lCCRzMh7xFj"
      },
      "execution_count": null,
      "outputs": []
    }
  ]
}